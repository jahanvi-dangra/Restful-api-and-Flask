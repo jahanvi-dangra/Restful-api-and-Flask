{
  "nbformat": 4,
  "nbformat_minor": 0,
  "metadata": {
    "colab": {
      "provenance": []
    },
    "kernelspec": {
      "name": "python3",
      "display_name": "Python 3"
    },
    "language_info": {
      "name": "python"
    }
  },
  "cells": [
    {
      "cell_type": "markdown",
      "source": [
        "1. What is a RESTful API?\n",
        "\n",
        "- A RESTful API (Representational state Transfer API) is a way for different software systems to communicate over the internet using the HTTP protocol, following the principle of REST architecture.\n",
        "\n",
        "-  It's widely used in web development for building services that can be consumed by clients like web apps, mobile apps or other servers."
      ],
      "metadata": {
        "id": "9rnJPjqSQlXA"
      }
    },
    {
      "cell_type": "markdown",
      "source": [
        "2. Explain the concept of API specification.\n",
        "\n",
        "- An API(Application Programming Interface) is a set of rules and protocols that allows different software systems to communicate each other.\n",
        "\n",
        "- An API specification is a detailed, formal document that describes how an API works. It defines what functions are available, how to request them, and what responses to expect.\n",
        "\n",
        " Key components of API specification:\n",
        "\n",
        " 1) *Endpoints*: Specific URLs where the API can be accessed(e.g.,/students/{id}).\n",
        "\n",
        " 2) *Methods*: HTTP methods used to interact with the API, such as GET, POST, PUT, and DELETE.\n",
        "\n",
        " 3) *Request format*: Information about what data the API expects from the user (e.g., in the request body or query parameters).\n",
        "\n",
        " 4) *Response format*: Details about what the API will return, including data structure (like JSON or XML) and status codes (e.g., 200 OK, 404 Not Found).\n",
        "\n",
        " 5) *Authentication*: Describes if and how users must authenticate (e.g., using API keys or tokens).\n",
        "\n",
        " 6) *Error handling*: Specifies what errors might occur and how they are reported."
      ],
      "metadata": {
        "id": "V1K7oYrGY-j3"
      }
    },
    {
      "cell_type": "markdown",
      "source": [
        "3. What is Flask, and why is it popular for building APIs?\n",
        "\n",
        " Flask is a lightweight web framework written in python that help developers build web applications and RESTful APIs quickly and easily.\n",
        "\n",
        " Why is it popular for building APIs?\n",
        "\n",
        " - Simplicity and ease of use\n",
        " - Flexibility\n",
        " - RESTful API support\n",
        " - Large community and Extensions\n",
        " - Well-suited for prototyping and Microservices"
      ],
      "metadata": {
        "id": "dcAdn3VYvAeu"
      }
    },
    {
      "cell_type": "markdown",
      "source": [
        "4. What is routing in Flask?\n",
        "\n",
        " Routing in Flask is the process of mapping URLs to specific functions in your application. These functions are called view functions, and they define what should happen when a user accesses a certain route(or URL) in the browser."
      ],
      "metadata": {
        "id": "XzMKtl0LxsaP"
      }
    },
    {
      "cell_type": "code",
      "execution_count": null,
      "metadata": {
        "id": "fe2pwD-GH86k"
      },
      "outputs": [],
      "source": [
        " # Flask uses app.route() decorator to define routes."
      ]
    },
    {
      "cell_type": "markdown",
      "source": [
        "5. How do you create a simple Flask application?\n",
        "\n",
        "  "
      ],
      "metadata": {
        "id": "y1RlO29yz1Wv"
      }
    },
    {
      "cell_type": "code",
      "source": [
        "!pip install flask"
      ],
      "metadata": {
        "colab": {
          "base_uri": "https://localhost:8080/"
        },
        "id": "VfxWmrffD3rk",
        "outputId": "05ec98ed-2139-4582-99cb-fff03401e04d"
      },
      "execution_count": null,
      "outputs": [
        {
          "output_type": "stream",
          "name": "stdout",
          "text": [
            "Requirement already satisfied: flask in /usr/local/lib/python3.11/dist-packages (3.1.1)\n",
            "Requirement already satisfied: blinker>=1.9.0 in /usr/local/lib/python3.11/dist-packages (from flask) (1.9.0)\n",
            "Requirement already satisfied: click>=8.1.3 in /usr/local/lib/python3.11/dist-packages (from flask) (8.2.1)\n",
            "Requirement already satisfied: itsdangerous>=2.2.0 in /usr/local/lib/python3.11/dist-packages (from flask) (2.2.0)\n",
            "Requirement already satisfied: jinja2>=3.1.2 in /usr/local/lib/python3.11/dist-packages (from flask) (3.1.6)\n",
            "Requirement already satisfied: markupsafe>=2.1.1 in /usr/local/lib/python3.11/dist-packages (from flask) (3.0.2)\n",
            "Requirement already satisfied: werkzeug>=3.1.0 in /usr/local/lib/python3.11/dist-packages (from flask) (3.1.3)\n"
          ]
        }
      ]
    },
    {
      "cell_type": "code",
      "source": [
        "from flask import Flask\n",
        "\n",
        "app = Flask(__name__)\n",
        "\n",
        "@app.route('/')\n",
        "def home():\n",
        "    return 'Hello, World! This is my first Flask app.'\n",
        "\n",
        "if __name__ == '__main__':\n",
        "    app.run(debug=True)\n"
      ],
      "metadata": {
        "colab": {
          "base_uri": "https://localhost:8080/"
        },
        "id": "_i7r_HTyFMj-",
        "outputId": "0d2be583-36bb-4b35-fc33-f5c6e27b321d"
      },
      "execution_count": null,
      "outputs": [
        {
          "output_type": "stream",
          "name": "stdout",
          "text": [
            " * Serving Flask app '__main__'\n",
            " * Debug mode: on\n"
          ]
        },
        {
          "output_type": "stream",
          "name": "stderr",
          "text": [
            "INFO:werkzeug:\u001b[31m\u001b[1mWARNING: This is a development server. Do not use it in a production deployment. Use a production WSGI server instead.\u001b[0m\n",
            " * Running on http://127.0.0.1:5000\n",
            "INFO:werkzeug:\u001b[33mPress CTRL+C to quit\u001b[0m\n",
            "INFO:werkzeug: * Restarting with stat\n"
          ]
        }
      ]
    },
    {
      "cell_type": "markdown",
      "source": [
        "6. What are HTTP methods used in RESTful APIs?\n",
        "\n",
        " HTTP methods used un RESTful APIs are:\n",
        " - GET: Retrieve data from the server.\n",
        " - POST: Send data to the server to create a resource.\n",
        " - PUT: Update an existing resource completely.\n",
        " - PATCH: Update part of a resource.\n",
        " - DELETE: Remove a resource from the server."
      ],
      "metadata": {
        "id": "8wriF6OfFiwS"
      }
    },
    {
      "cell_type": "markdown",
      "source": [
        "7. What is the purpose of the @app.route() decorator in Flask?\n",
        "\n",
        "  Purpose of the @app.route() decorator in Flask:\n",
        "  - URL mapping: Connects a URL path to a python function.\n",
        "  - Handles HTTP requests: defines what happens when the URL is accessed via the browser or API call.\n",
        "  - Organizes your app: Makes it easy to define multiple web pages or API endpoints."
      ],
      "metadata": {
        "id": "iEfAQqX_MU9M"
      }
    },
    {
      "cell_type": "markdown",
      "source": [
        "8. What is the difference between GET and POST HTTP methods?\n",
        "\n",
        " GET:\n",
        "\n",
        " -  Retreive data from the server.\n",
        " -  Sent in the URL(query stringt).\n",
        " - Use case: Reading or viewing data(e.g., a profile).\n",
        "\n",
        " POST:\n",
        " -  Send data to the server to create something.\n",
        " - Sent in the request body.\n",
        " - Use case: submitting forms, uploading files, etc."
      ],
      "metadata": {
        "id": "7LMDTb2RNgUx"
      }
    },
    {
      "cell_type": "markdown",
      "source": [
        "9. How do you handle errors in Flask APIs?\n",
        "  \n",
        "- Handling errors in Flask APIs is essential for providing clear feedback to clients and for maintaining application stability.\n",
        "- Using Flask's @app.errorhandler Decorator\n",
        "\n"
      ],
      "metadata": {
        "id": "Xy-R4bTByODU"
      }
    },
    {
      "cell_type": "code",
      "source": [
        "from flask import Flask, jsonify\n",
        "\n",
        "app = Flask(__name__)\n",
        "\n",
        "@app.errorhandler(404)\n",
        "def not_found_error(error):\n",
        "    return jsonify({'error': 'Not found'}), 404\n",
        "\n",
        "@app.errorhandler(500)\n",
        "def internal_error(error):\n",
        "    return jsonify({'error': 'Internal server error'}), 500"
      ],
      "metadata": {
        "id": "m9I-F6vstH7L"
      },
      "execution_count": 1,
      "outputs": []
    },
    {
      "cell_type": "markdown",
      "source": [
        "10. How do you connect Flask to a SQL database?\n",
        "\n",
        " Connecting Flask to a SQL database includes three main concepts:\n",
        " 1) Configuration: You need to tell Flask where your database is and how to connect to it.\n",
        "\n",
        " 2) ORM(Object relational mapping): Instead of writing raw SQL, you use Python classes to define database tables. This is handled by SQLAlchemy.\n",
        "\n",
        " 3) Session management: SQLAlchemy provides a session to interact with the database."
      ],
      "metadata": {
        "id": "qztwZE4vwXyV"
      }
    },
    {
      "cell_type": "code",
      "source": [
        "# Configuration:\n",
        "# app.config['SQLALCHEMY_DATABASE_URI'] = '<database_connection_string>\n",
        "\n",
        "# ORM:\n",
        "# class User(db.Model):\n",
        "#    id = db.Column(db.Integer, primary_key=True)\n",
        "#    username = db.Column(db.String(50))"
      ],
      "metadata": {
        "id": "f3RjDMcO5VH4"
      },
      "execution_count": null,
      "outputs": []
    },
    {
      "cell_type": "markdown",
      "source": [
        "11. What is the role of Flask-SQLAlchemy?\n",
        "\n",
        "- The role of Flask-SQLAlchemy is to bridge Flask and SQLAlchemy, making it easier to use a SQL database in a Flask application.\n",
        "\n",
        " Role of Flask-SQLAlchemy:\n",
        " - simplifies configuration\n",
        " - Provides integrated ORM support\n",
        " - Manages database sessions automatically\n",
        " - Add Flask-specific enhancements\n",
        " - Supports multiple databases"
      ],
      "metadata": {
        "id": "5tLjRGiD52Gm"
      }
    },
    {
      "cell_type": "markdown",
      "source": [
        "12. What are Flask blueprints, and how are they useful?\n",
        "\n",
        "- Flask Blueprints are a way to organize your Flask application into modular, reusable components.\n",
        "- They are like a mini-apps in the Flask app, each handling a specific part.\n",
        "\n",
        " They are useful as:\n",
        " Without Blueprints, all your routes and logic live in one big file — which quickly becomes hard to manage as your app grows."
      ],
      "metadata": {
        "id": "csYP-e_98DbS"
      }
    },
    {
      "cell_type": "code",
      "source": [
        "#/myapp\n",
        "#  ├── app.py\n",
        "#  ├── auth/\n",
        "# │    ├── __init__.py\n",
        "#  │    └── routes.py\n",
        "# ├── blog/\n",
        "#  │    ├── __init__.py\n",
        "#  │    └── routes.py"
      ],
      "metadata": {
        "id": "Y3VyjZIxF4gk"
      },
      "execution_count": null,
      "outputs": []
    },
    {
      "cell_type": "markdown",
      "source": [
        "13. What is the purpose of Flask's request object?\n",
        "\n",
        "- The purpose of Flask's request object is to give you access to data sent by the client in an HTTP request — such as form inputs, JSON payloads, headers, cookies, and more.\n",
        "- It's part of Flask’s built-in flask module and is used whenever your app needs to receive input from the user or inspect request-related metadata."
      ],
      "metadata": {
        "id": "3zMkAxkyG4kT"
      }
    },
    {
      "cell_type": "markdown",
      "source": [
        "14. How do you create a RESTful API endpoint using Flask?\n",
        "\n",
        "-  In Flask, we can create a RESTful API by writing routes that respond to HTTP methods like GET, POST, PUT, and DELETE.\n",
        "- These methods help us perform operations like reading, adding, updating, or deleting data, which is the basic idea of a REST API."
      ],
      "metadata": {
        "id": "Uw3SwJGBIFuX"
      }
    },
    {
      "cell_type": "code",
      "source": [
        "from flask import Flask, request, jsonify\n",
        "\n",
        "app = Flask(__name__)\n",
        "\n",
        "# Sample in-memory data\n",
        "users = [\n",
        "    {\"id\": 1, \"name\": \"jahnvi\"},\n",
        "    {\"id\": 2, \"name\": \"siya\"}\n",
        "]\n",
        "\n",
        "# GET\n",
        "@app.route('/api/users', methods=['GET'])\n",
        "def get_users():\n",
        "    return jsonify(users), 200\n",
        "\n",
        "# GET\n",
        "@app.route('/api/users/<int:user_id>', methods=['GET'])\n",
        "def get_user(user_id):\n",
        "    user = next((u for u in users if u[\"id\"] == user_id), None)\n",
        "    if user:\n",
        "        return jsonify(user), 200\n",
        "    return jsonify({\"error\": \"User not found\"}), 404\n",
        "\n",
        "# POST\n",
        "@app.route('/api/users', methods=['POST'])\n",
        "def create_user():\n",
        "    data = request.json\n",
        "    new_user = {\"id\": len(users) + 1, \"name\": data[\"name\"]}\n",
        "    users.append(new_user)\n",
        "    return jsonify(new_user), 201\n",
        "\n",
        "# PUT\n",
        "@app.route('/api/users/<int:user_id>', methods=['PUT'])\n",
        "def update_user(user_id):\n",
        "    data = request.json\n",
        "    for user in users:\n",
        "        if user[\"id\"] == user_id:\n",
        "            user[\"name\"] = data[\"name\"]\n",
        "            return jsonify(user), 200\n",
        "    return jsonify({\"error\": \"User not found\"}), 404\n",
        "\n",
        "# DELETE\n",
        "@app.route('/api/users/<int:user_id>', methods=['DELETE'])\n",
        "def delete_user(user_id):\n",
        "    global users\n",
        "    users = [u for u in users if u[\"id\"] != user_id]\n",
        "    return jsonify({\"message\": \"User deleted\"}), 200\n",
        "\n",
        "if __name__ == '__main__':\n",
        "    app.run(debug=True)\n"
      ],
      "metadata": {
        "id": "vIU9GIQkJq_k"
      },
      "execution_count": null,
      "outputs": []
    },
    {
      "cell_type": "markdown",
      "source": [
        "15. What is the purpose of Flask's jsonify() function?\n",
        "\n",
        "- The jsonify() function is used to convert Python data (like dictionaries or lists) into a proper JSON response that can be sent back to the client (like a web browser, mobile app, or frontend framework).\n",
        "\n",
        " Purpose of Flask's jsonify() function:\n",
        " -  It takes Python data (like dict, list, etc.)\n",
        " -  Converts it to JSON format\n",
        " -  Sets the correct Content-Type header\n",
        " -  Returns a valid HTTP response"
      ],
      "metadata": {
        "id": "XLEHpVgDLQ3c"
      }
    },
    {
      "cell_type": "markdown",
      "source": [
        "16. Explain Flask’s url_for() function.\n",
        "\n",
        " The url_for() function is used to generate the URL for a specific function (route) dynamically. Instead of hardcoding URLs into your HTML or Python code, you can use url_for() to automatically build them.\n",
        "\n",
        " Uses of url_for() function:\n",
        " - Automatically updates URLs\n",
        " - keeps things consistent\n",
        " - Accepts variables easily\n"
      ],
      "metadata": {
        "id": "zFCPvwLWL8Li"
      }
    },
    {
      "cell_type": "code",
      "source": [
        "from flask import Flask, url_for\n",
        "\n",
        "app = Flask(__name__)\n",
        "\n",
        "@app.route('/profile/<username>')\n",
        "def profile(username):\n",
        "  return f\"profile page of {username}\"\n",
        "\n",
        "@app.route('/')\n",
        "def home():\n",
        "  return url_for('profile', username='jahanvi')"
      ],
      "metadata": {
        "id": "V6sRNJzKNOhz"
      },
      "execution_count": 2,
      "outputs": []
    },
    {
      "cell_type": "markdown",
      "source": [
        "17. How does Flask handle static files (CSS, JavaScript, etc.)?\n",
        "\n",
        " In Flask, static files like CSS, JavaScript, images, etc., are handled using a special static/ folder. Flask automatically knows that anything inside this folder should be served as a static file means the file doesn't change dynamically and can be sent directly to the user's browser."
      ],
      "metadata": {
        "id": "-YekBktGOSr2"
      }
    },
    {
      "cell_type": "code",
      "source": [
        "# default folder structure\n",
        "#/project\n",
        "#  ├── app.py\n",
        "#  ├── static/\n",
        "#  │    ├── style.css\n",
        "#  │    └── script.js\n",
        "#  └── templates/\n",
        "#      └── index.html"
      ],
      "metadata": {
        "id": "53cXEj-OO4o3"
      },
      "execution_count": null,
      "outputs": []
    },
    {
      "cell_type": "markdown",
      "source": [
        "18. What is an API specification, and how does it help in building a Flask API?\n",
        "\n",
        " An API specification is a document or file that defines how an API should behave including:\n",
        "\n",
        " - What endpoints are available\n",
        "\n",
        " - What methods (GET, POST, etc.) each endpoint supports\n",
        "\n",
        " - What data is expected (input) and returned (output)\n",
        "\n",
        " - What status codes and error messages might be returned\n",
        "\n",
        " How it helps in building a Flask API:\n",
        "\n",
        " - Gives a Clear Structure\n",
        "\n",
        " - Helps with Consistency\n",
        "\n",
        " - Frontend and Backend Can Work in Parallel\n",
        "\n",
        " - Simplifies Testing and Validation"
      ],
      "metadata": {
        "id": "A0_gQ0VsO-T7"
      }
    },
    {
      "cell_type": "markdown",
      "source": [
        "19. What are HTTP status codes, and why are they important in a Flask API?\n",
        "\n",
        "  HTTP status codes are three-digit numbers returned by a server (like a Flask API) to tell the client (like a browser or mobile app) what happened when a request was made.\n",
        "\n",
        "  why they are important in a Flask API:\n",
        "\n",
        "  - They tell the client exactly what happened (success, error, etc.)\n",
        "  - Helps frontend apps know when something went wrong\n",
        "  - Standardized across all web systems\n",
        "  - Mobile apps, frontend JavaScript, or other services use status codes to make decisions (e.g., retry, show error, redirect)"
      ],
      "metadata": {
        "id": "dcXHNRvjP6p9"
      }
    },
    {
      "cell_type": "markdown",
      "source": [
        "20. How do you handle POST requests in Flask?\n",
        "\n",
        " A POST request is used when the client wants to send data to the server, usually to create or submit something — like filling a form or adding a new record in a database."
      ],
      "metadata": {
        "id": "Mm6Z4ckbRa_1"
      }
    },
    {
      "cell_type": "code",
      "source": [
        "from flask import Flask, request, jsonify\n",
        "\n",
        "app = Flask(__name__)\n",
        "\n",
        "@app.route('/submit', methods=['POST'])\n",
        "def submit_data():\n",
        "    data = request.json  # Get JSON data from client\n",
        "    name = data.get('name')\n",
        "    age = data.get('age')\n",
        "    return jsonify({\"message\": f\"Received data for {name}, age {age}\"}), 200"
      ],
      "metadata": {
        "id": "9-DdVXLBRGtB"
      },
      "execution_count": 1,
      "outputs": []
    },
    {
      "cell_type": "markdown",
      "source": [
        "21. How would you secure a Flask API?\n",
        "\n",
        " Securing a Flask API means protecting it from unauthorized access, data leaks, and misuse.\n",
        "  \n",
        " Ways to secure a Flask API:\n",
        " - Use Authentication: Only allow access to users who can prove their identity.\n",
        " - Use HTTPS: Always run your API over https://, not http://.\n",
        " - Input Validation: Always check and sanitize the data coming from the client.\n",
        " -  Limit Request Rate (Rate Limiting): Prevents abuse (e.g., too many requests in a short time).\n",
        " -  Error Handling & Logging\n",
        " - Secure configuration"
      ],
      "metadata": {
        "id": "1A5eZRIKSBY5"
      }
    },
    {
      "cell_type": "markdown",
      "source": [
        "22. What is the significance of the Flask-RESTful extension?\n",
        "\n",
        " Flask-RESTful is an extension for Flask that helps you build REST APIs more easily and in an organized way.\n",
        "\n",
        " Significance of the Flask-RESTful extension:\n",
        " - Makes API Code Cleaner and More Structured\n",
        " - Supports HTTP Methods Easily\n",
        " - Helps with Routing Using Api Object\n",
        " - Easier to Add Input Validation (with reqparse)\n",
        " - Improves Testing and Maintenance"
      ],
      "metadata": {
        "id": "GkhSSB5VTHOy"
      }
    },
    {
      "cell_type": "markdown",
      "source": [
        "23. What is the role of Flask’s session object?\n",
        "\n",
        " - In Flask, the session object is used to store information about a user across multiple requests — like keeping a user logged in or remembering their preferences.\n",
        " - It works like a temporary storage that is unique to each user (browser), and it is saved on the client side using secure cookies.\n",
        "\n",
        " The main goal of session is to help the web application \"remember\" the user between page loads, without needing to ask them to log in or enter data again and again."
      ],
      "metadata": {
        "id": "LmKJ1clMUTsG"
      }
    },
    {
      "cell_type": "markdown",
      "source": [
        "# Practical Questions"
      ],
      "metadata": {
        "id": "NRkxjYdXU-K0"
      }
    },
    {
      "cell_type": "markdown",
      "source": [
        "1. How do you create a basic Flask application?"
      ],
      "metadata": {
        "id": "8M-cmtsPVCGq"
      }
    },
    {
      "cell_type": "code",
      "source": [
        "# by installing a Flask\n",
        "# Create a file(e.g, app.py)\n",
        "from flask import Flask\n",
        "\n",
        "app = Flask(__name__)            # create the Flask application\n",
        "\n",
        "@app.route('/')                  # define the home route\n",
        "def home():\n",
        "    return \"Hello Flask world!\"  # response shown in browser\n",
        "\n",
        "if __name__ == '__main__':\n",
        "    app.run(debug=True)          # run the app in debug mode"
      ],
      "metadata": {
        "colab": {
          "base_uri": "https://localhost:8080/"
        },
        "id": "4hMzOa8iVyZk",
        "outputId": "315195f7-9e67-413e-8336-bfbe0acb513a"
      },
      "execution_count": 4,
      "outputs": [
        {
          "output_type": "stream",
          "name": "stdout",
          "text": [
            " * Serving Flask app '__main__'\n",
            " * Debug mode: on\n"
          ]
        },
        {
          "output_type": "stream",
          "name": "stderr",
          "text": [
            "INFO:werkzeug:\u001b[31m\u001b[1mWARNING: This is a development server. Do not use it in a production deployment. Use a production WSGI server instead.\u001b[0m\n",
            " * Running on http://127.0.0.1:5000\n",
            "INFO:werkzeug:\u001b[33mPress CTRL+C to quit\u001b[0m\n",
            "INFO:werkzeug: * Restarting with stat\n"
          ]
        }
      ]
    },
    {
      "cell_type": "markdown",
      "source": [
        "2. How do you serve static files like images or CSS in Flask?"
      ],
      "metadata": {
        "id": "5LgUod6tWhxc"
      }
    },
    {
      "cell_type": "code",
      "source": [
        "# Create Flask App Folder Structure.\n",
        "# app.py step 2\n",
        "from flask import Flask, render_template\n",
        "\n",
        "app = Flask(__name__)\n",
        "\n",
        "@app.route('/')\n",
        "def home():\n",
        "    return render_template('index.html')  # loads HTML page\n",
        "\n",
        "if __name__ == '__main__':\n",
        "    app.run(debug=True)\n",
        "\n",
        "# step 3: index.html (Inside templates/)\n",
        "<!DOCTYPE html>\n",
        "<html>\n",
        "<head>\n",
        "    <title>Static File Example</title>\n",
        "    <!-- Linking CSS file -->\n",
        "    <link rel=\"stylesheet\" href=\"{{ url_for('static', filename='style.css') }}\">\n",
        "</head>\n",
        "<body>\n",
        "    <h1>Welcome to Flask</h1>\n",
        "    <!-- Displaying image -->\n",
        "    <img src=\"{{ url_for('static', filename='logo.png') }}\" alt=\"Logo\">\n",
        "</body>\n",
        "</html>\n",
        "\n",
        "# style.css (Inside static/)\n",
        "body {\n",
        "    background-color: #f0f0f0;\n",
        "    font-family: Arial;\n",
        "    text-align: center;\n",
        "}"
      ],
      "metadata": {
        "id": "Q2FaZfmxWs5w"
      },
      "execution_count": null,
      "outputs": []
    },
    {
      "cell_type": "markdown",
      "source": [
        "3. How do you define different routes with different HTTP methods in Flask"
      ],
      "metadata": {
        "id": "Y_23qL_PZNAj"
      }
    },
    {
      "cell_type": "code",
      "source": [
        "#Using GET and POST on Same Route\n",
        "from flask import Flask, request\n",
        "\n",
        "app = Flask(__name__)\n",
        "\n",
        "@app.route('/contact', methods=['GET', 'POST'])\n",
        "def contact():\n",
        "    if request.method == 'GET':\n",
        "        return \"Contact form page\"\n",
        "    elif request.method == 'POST':\n",
        "        name = request.form.get('name')\n",
        "        return f\"Form submitted by {name}\"\n",
        "\n",
        "# Multiple Routes with Different Methods\n",
        "\n",
        "@app.route('/user/<int:id>', methods=['GET'])\n",
        "def get_user(id):\n",
        "    return f\"Fetching user with ID {id}\"\n",
        "\n",
        "@app.route('/user/<int:id>', methods=['DELETE'])\n",
        "def delete_user(id):\n",
        "    return f\"Deleted user with ID {id}\"\n"
      ],
      "metadata": {
        "id": "ng5WkGNgZaKO"
      },
      "execution_count": null,
      "outputs": []
    },
    {
      "cell_type": "markdown",
      "source": [
        "4. How do you render HTML templates in Flask?\n"
      ],
      "metadata": {
        "id": "a1uQXSI9Zk59"
      }
    },
    {
      "cell_type": "code",
      "source": [
        "# app.py (Flask App File)\n",
        "from flask import Flask, render_template\n",
        "\n",
        "app = Flask(__name__)\n",
        "\n",
        "@app.route('/')\n",
        "def home():\n",
        "    return render_template('index.html')\n",
        "\n",
        "# templates/index.html\n",
        "<!DOCTYPE html>\n",
        "<html>\n",
        "<head>\n",
        "    <title>My Flask Page</title>\n",
        "</head>\n",
        "<body>\n",
        "    <h1>Welcome to Flask Template Rendering!</h1>\n",
        "</body>\n",
        "</html>\n",
        "# Running the App"
      ],
      "metadata": {
        "id": "8pQpxa7LZ6Us"
      },
      "execution_count": null,
      "outputs": []
    },
    {
      "cell_type": "markdown",
      "source": [
        "5. How can you generate URLs for routes in Flask using url_for?"
      ],
      "metadata": {
        "id": "sjgYfX4VaKPa"
      }
    },
    {
      "cell_type": "code",
      "source": [
        "from flask import Flask, url_for\n",
        "\n",
        "app = Flask(__name__)\n",
        "\n",
        "@app.route('/about')\n",
        "def about():\n",
        "    return 'This is the About Page'\n",
        "\n",
        "@app.route('/')\n",
        "def home():\n",
        "    return f\"Visit the About page at {url_for('about')}\""
      ],
      "metadata": {
        "id": "kQT6Gd50aP_E"
      },
      "execution_count": null,
      "outputs": []
    },
    {
      "cell_type": "markdown",
      "source": [
        "6. How do you handle forms in Flask?"
      ],
      "metadata": {
        "id": "myqL06zpaer-"
      }
    },
    {
      "cell_type": "code",
      "source": [
        "# Create the Flask App (app.py)\n",
        "from flask import Flask, request, render_template\n",
        "\n",
        "app = Flask(__name__)\n",
        "\n",
        "@app.route('/form', methods=['GET', 'POST'])\n",
        "def form():\n",
        "    if request.method == 'POST':\n",
        "        name = request.form['name']\n",
        "        return f\"Hello, {name}!\"\n",
        "    return render_template('form.html')\n",
        "# Create HTML Form (form.html)\n",
        "<!DOCTYPE html>\n",
        "<html>\n",
        "<head>\n",
        "    <title>Simple Form</title>\n",
        "</head>\n",
        "<body>\n",
        "    <form method=\"POST\" action=\"/form\">\n",
        "        <label>Name:</label>\n",
        "        <input type=\"text\" name=\"name\" required>\n",
        "        <input type=\"submit\" value=\"Submit\">\n",
        "    </form>\n",
        "</body>\n",
        "</html>"
      ],
      "metadata": {
        "id": "voTQ47Vlajbz"
      },
      "execution_count": null,
      "outputs": []
    },
    {
      "cell_type": "markdown",
      "source": [
        "7. How can you validate form data in Flask?"
      ],
      "metadata": {
        "id": "6MnY-dFZa-eD"
      }
    },
    {
      "cell_type": "code",
      "source": [
        "# Manual Validation (Basic)\n",
        "from flask import Flask, request, render_template\n",
        "\n",
        "app = Flask(__name__)\n",
        "\n",
        "@app.route('/form', methods=['GET', 'POST'])\n",
        "def form():\n",
        "    error = None\n",
        "    if request.method == 'POST':\n",
        "        name = request.form.get('name')\n",
        "        email = request.form.get('email')\n",
        "\n",
        "        if not name or not email:\n",
        "            error = \"Both fields are required!\"\n",
        "        elif '@' not in email:\n",
        "            error = \"Invalid email address!\"\n",
        "        else:\n",
        "            return f\"Hello, {name}! Your email is {email}\"\n",
        "\n",
        "    return render_template('form.html', error=error)"
      ],
      "metadata": {
        "id": "3Oe4DB8dbdAP"
      },
      "execution_count": null,
      "outputs": []
    },
    {
      "cell_type": "markdown",
      "source": [
        "8. How do you manage sessions in Flask?\n"
      ],
      "metadata": {
        "id": "wvCBL_3fblmp"
      }
    },
    {
      "cell_type": "code",
      "source": [
        "# IMport and set up session data\n",
        "from flask import Flask, session, redirect, url_for, request\n",
        "\n",
        "app = Flask(__name__)\n",
        "app.secret_key = 'your_secret_key'  # Required for using session\n",
        "\n",
        "# Set a Session Value (Login Example)\n",
        "@app.route('/login', methods=['POST', 'GET'])\n",
        "def login():\n",
        "    if request.method == 'POST':\n",
        "        username = request.form['username']\n",
        "        session['username'] = username  # Save to session\n",
        "        return redirect(url_for('profile'))\n",
        "    return '''\n",
        "        <form method=\"post\">\n",
        "            Username: <input type=\"text\" name=\"username\">\n",
        "            <input type=\"submit\">\n",
        "        </form>\n",
        "    '''\n",
        "# Access Session Data\n",
        "@app.route('/profile')\n",
        "def profile():\n",
        "    if 'username' in session:\n",
        "        return f\"Welcome, {session['username']}!\"\n",
        "    return \"You are not logged in.\"\n",
        "# Remove Session Data (Logout Example)\n",
        "\n",
        "@app.route('/logout')\n",
        "def logout():\n",
        "    session.pop('username', None)  # Remove session key\n",
        "    return \"Logged out.\""
      ],
      "metadata": {
        "id": "mhr1iq0nb7gW"
      },
      "execution_count": null,
      "outputs": []
    },
    {
      "cell_type": "markdown",
      "source": [
        "9. How do you redirect to a different route in Flask?"
      ],
      "metadata": {
        "id": "N8_EioQWcThg"
      }
    },
    {
      "cell_type": "code",
      "source": [
        "from flask import Flask, redirect, url_for, request\n",
        "\n",
        "app = Flask(__name__)\n",
        "\n",
        "@app.route('/')\n",
        "def home():\n",
        "    return 'Welcome to the Home Page'\n",
        "\n",
        "@app.route('/login', methods=['POST', 'GET'])\n",
        "def login():\n",
        "    if request.method == 'POST':\n",
        "        username = request.form['username']\n",
        "        # pretend login success\n",
        "        return redirect(url_for('profile', name=username))\n",
        "    return '''\n",
        "        <form method=\"post\">\n",
        "            Username: <input type=\"text\" name=\"username\">\n",
        "            <input type=\"submit\" value=\"Login\">\n",
        "        </form>\n",
        "    '''\n",
        "\n",
        "@app.route('/profile/<name>')\n",
        "def profile(name):\n",
        "    return f\"Hello, {name}!\"\n"
      ],
      "metadata": {
        "id": "qTzq3MMScagX"
      },
      "execution_count": null,
      "outputs": []
    },
    {
      "cell_type": "markdown",
      "source": [
        "10. How do you handle errors in Flask (e.g., 404)?\n"
      ],
      "metadata": {
        "id": "g20mYTnkcb8t"
      }
    },
    {
      "cell_type": "code",
      "source": [
        "# Handling 404 (Page Not Found) Error\n",
        "from flask import Flask, render_template\n",
        "\n",
        "app = Flask(__name__)\n",
        "\n",
        "@app.route('/')\n",
        "def home():\n",
        "    return \"Welcome to the Home Page!\"\n",
        "\n",
        "# Custom 404 Error Page\n",
        "@app.errorhandler(404)\n",
        "def page_not_found(error):\n",
        "    return render_template('404.html'), 404\n"
      ],
      "metadata": {
        "id": "yMDX_x1tdDTK"
      },
      "execution_count": null,
      "outputs": []
    },
    {
      "cell_type": "markdown",
      "source": [
        "11. How do you structure a Flask app using Blueprints?"
      ],
      "metadata": {
        "id": "It-JaLsGcgCa"
      }
    },
    {
      "cell_type": "code",
      "source": [
        "# Create the Blueprint (auth/routes.py)\n",
        "from flask import Blueprint, render_template\n",
        "\n",
        "auth_bp = Blueprint('auth', __name__, url_prefix='/auth')\n",
        "\n",
        "@auth_bp.route('/login')\n",
        "def login():\n",
        "    return render_template('login.html')\n",
        "# Initialize Blueprint (auth/__init__.py)\n",
        "from .routes import auth_bp\n",
        "# Register Blueprint in Main App (app.py)\n",
        "from flask import Flask\n",
        "from auth.routes import auth_bp  # import the Blueprint\n",
        "\n",
        "app = Flask(__name__)\n",
        "app.register_blueprint(auth_bp)  # register it with the main app\n",
        "\n",
        "@app.route('/')\n",
        "def home():\n",
        "    return \"Welcome to the Main Page\"\n",
        "# Create Template (templates/login.html)"
      ],
      "metadata": {
        "id": "7DuhXvFVdVEa"
      },
      "execution_count": null,
      "outputs": []
    },
    {
      "cell_type": "markdown",
      "source": [
        "12. How do you define a custom Jinja filter in Flask?"
      ],
      "metadata": {
        "id": "4dmLLBnBckwF"
      }
    },
    {
      "cell_type": "code",
      "source": [
        "# Define the Filter Function in app.py\n",
        "from flask import Flask\n",
        "\n",
        "app = Flask(__name__)\n",
        "\n",
        "      # Custom filter to reverse a string\n",
        "def reverse_string(s):\n",
        "    return s[::-1]\n",
        "\n",
        "         # Register the filter with Jinja\n",
        "app.jinja_env.filters['reverse'] = reverse_string\n",
        "# Use the Filter in a Template\n",
        "<!DOCTYPE html>\n",
        "<html>\n",
        "<head><title>Custom Filter</title></head>\n",
        "<body>\n",
        "    <p>Original: {{ name }}</p>\n",
        "    <p>Reversed: {{ name | reverse }}</p>\n",
        "</body>\n",
        "</html>\n",
        "#Pass Data to the Template\n",
        "from flask import render_template\n",
        "\n",
        "@app.route('/')\n",
        "def home():\n",
        "    return render_template('index.html', name='Flask')"
      ],
      "metadata": {
        "id": "K9OaNNUBdwXc"
      },
      "execution_count": null,
      "outputs": []
    },
    {
      "cell_type": "markdown",
      "source": [
        "13. How can you redirect with query parameters in Flask?"
      ],
      "metadata": {
        "id": "E9BH683BcoDr"
      }
    },
    {
      "cell_type": "code",
      "source": [
        "from flask import Flask, redirect, url_for, request\n",
        "\n",
        "app = Flask(__name__)\n",
        "\n",
        "@app.route('/')\n",
        "def home():\n",
        "    return redirect(url_for('greet', name='johny', age=21))\n",
        "\n",
        "@app.route('/greet')\n",
        "def greet():\n",
        "    name = request.args.get('name')\n",
        "    age = request.args.get('age')\n",
        "    return f\"Hello, {name}! You are {age} years old.\""
      ],
      "metadata": {
        "id": "byshAnm3edzx"
      },
      "execution_count": null,
      "outputs": []
    },
    {
      "cell_type": "markdown",
      "source": [
        "14. How do you return JSON responses in Flask?"
      ],
      "metadata": {
        "id": "mvvQB0HFcsCB"
      }
    },
    {
      "cell_type": "code",
      "source": [
        "from flask import jsonify\n",
        "app = Flask(__name__)\n",
        "\n",
        "@app.route('/api/user')\n",
        "def get_user():\n",
        "    user = {\n",
        "        'name': 'Bunny',\n",
        "        'age': 25,\n",
        "        'email': 'bunny@example.com'\n",
        "    }\n",
        "    return jsonify(user)"
      ],
      "metadata": {
        "id": "GWSpgaiVeomo"
      },
      "execution_count": null,
      "outputs": []
    },
    {
      "cell_type": "markdown",
      "source": [
        "15. How do you capture URL parameters in Flask?"
      ],
      "metadata": {
        "id": "DmWX5zWocwGN"
      }
    },
    {
      "cell_type": "code",
      "source": [
        "# Capture a Username from the URL\n",
        "from flask import Flask\n",
        "\n",
        "app = Flask(__name__)\n",
        "\n",
        "@app.route('/user/<username>')\n",
        "def show_user(username):\n",
        "    return f\"Hello, {username}!\"\n",
        "\n",
        "# Capture Numbers with Type Converters\n",
        "@app.route('/product/<int:product_id>')\n",
        "def product_detail(product_id):\n",
        "    return f\"Product ID: {product_id}\""
      ],
      "metadata": {
        "id": "4iNhcLMCfUvm"
      },
      "execution_count": null,
      "outputs": []
    }
  ]
}